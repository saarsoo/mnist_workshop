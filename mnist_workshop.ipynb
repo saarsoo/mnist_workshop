{
 "cells": [
  {
   "cell_type": "code",
   "execution_count": null,
   "metadata": {},
   "outputs": [],
   "source": [
    "using IJulia\n",
    "IJulia.installkernel(\"Julia nodeps\", \"--depwarn=no\")\n",
    "\n",
    "using Zygote\n",
    "using Flux\n",
    "using MLDatasets\n",
    "using Makie\n",
    "using Flux: mse, throttle, onehotbatch"
   ]
  },
  {
   "cell_type": "code",
   "execution_count": null,
   "metadata": {},
   "outputs": [],
   "source": [
    "AbstractPlotting.inline!(true) # Fixes output of Makie to notebook"
   ]
  },
  {
   "cell_type": "code",
   "execution_count": null,
   "metadata": {},
   "outputs": [],
   "source": [
    "dat_x, dat_y = MLDatasets.MNIST.traindata(Float32)\n",
    "val_x, val_y = MLDatasets.MNIST.testdata(Float32)\n",
    "\n",
    "batchsize = 10\n",
    "\n",
    "dat_x = cpu.([reshape(dat_x[:,:,i:i+batchsize-1], :, batchsize) for i in 1:batchsize:size(dat_x, 3)])\n",
    "val_x = cpu(hcat([vec(val_x[:,:,i]) for i in 1:size(val_x, 3)]...))"
   ]
  },
  {
   "cell_type": "code",
   "execution_count": null,
   "metadata": {},
   "outputs": [],
   "source": [
    "function viewmnist(x, d = 64)\n",
    "    stride = round(Int, sqrt(d))\n",
    "    img = [reshape(x[:,i], 28, 28) for i in 1:d]\n",
    "    img = reshape(img, stride, :)\n",
    "    out = [cat(img[i,1:end]..., dims = 2) for i in 1:stride]\n",
    "    out = cpu(cat(out..., dims = 1)[:,end:-1:1])\n",
    "    image(out, show_axis=false)\n",
    "end"
   ]
  },
  {
   "cell_type": "code",
   "execution_count": null,
   "metadata": {},
   "outputs": [],
   "source": [
    "function cbmnist(x, d = 64)\n",
    "    stride = round(Int, sqrt(d))\n",
    "    img = [reshape(x[:,i], 28, 28) for i in 1:d]\n",
    "    img = reshape(img, stride, :)\n",
    "    out = [cat(img[i,1:end]..., dims = 2) for i in 1:stride]\n",
    "    out = cpu(cat(out..., dims = 1)[:,end:-1:1])\n",
    "    IJulia.clear_output(true)\n",
    "    display(image(out, show_axis=false))\n",
    "    yield()\n",
    "end"
   ]
  },
  {
   "cell_type": "code",
   "execution_count": null,
   "metadata": {},
   "outputs": [],
   "source": [
    "#act = relu\n",
    "act = leakyrelu\n",
    "\n",
    "encoder = cpu(Chain(\n",
    "        Dense(28^2, 512, act),\n",
    "        Dense(512, 128, act),\n",
    "        Dense(128, 10, act),\n",
    "        Dense(10, 2)))\n",
    "\n",
    "decoder = cpu(Chain(\n",
    "        Dense(2, 10, act),\n",
    "        Dense(10, 128, act),\n",
    "        Dense(128, 512, act),\n",
    "        Dense(512, 28^2, act)))\n",
    "\n",
    "model = Chain(encoder, decoder)"
   ]
  },
  {
   "cell_type": "code",
   "execution_count": null,
   "metadata": {},
   "outputs": [],
   "source": [
    "AbstractPlotting.inline!(true) # Fixes output of Makie to notebook\n",
    "viewmnist(val_x)"
   ]
  },
  {
   "cell_type": "code",
   "execution_count": null,
   "metadata": {},
   "outputs": [],
   "source": [
    "evalcb = throttle(() -> cbmnist(model(val_x)), 2)\n",
    "loss(x) = mse(model(x), x)\n",
    "opt = ADAM()"
   ]
  },
  {
   "cell_type": "code",
   "execution_count": null,
   "metadata": {},
   "outputs": [],
   "source": [
    "AbstractPlotting.inline!(true) # Fixes output of Makie to notebook\n",
    "Flux.@epochs 3 Flux.train!(loss, params(model), zip(dat_x), opt, cb = evalcb)"
   ]
  },
  {
   "cell_type": "code",
   "execution_count": null,
   "metadata": {},
   "outputs": [],
   "source": [
    "AbstractPlotting.inline!(true) # Fixes output of Makie to notebook\n",
    "viewmnist(model(val_x))"
   ]
  },
  {
   "cell_type": "code",
   "execution_count": null,
   "metadata": {},
   "outputs": [],
   "source": [
    "using MultivariateStats"
   ]
  },
  {
   "cell_type": "code",
   "execution_count": null,
   "metadata": {},
   "outputs": [],
   "source": [
    "tX, tY = MNIST.traindata(Float32)\n",
    "vX, vY = MNIST.testdata(Float32)\n",
    "\n",
    "M = fit(PCA, reshape(tX, :, 60000); maxoutdim = 2)\n",
    "\n",
    "components = transform(M, reshape(vX, :, 10000))\n",
    "colors = to_colormap(:Set1, 10)\n",
    "scatter(components[1, :], components[2, :], color=[colors[y+1] for y in vY])\n",
    "\n",
    "latentspace_dnn = encoder(val_x)"
   ]
  },
  {
   "cell_type": "code",
   "execution_count": null,
   "metadata": {},
   "outputs": [],
   "source": [
    "AbstractPlotting.inline!(false)\n",
    "\n",
    "decodeimg(x, y) = reshape(decoder(cpu([x, y])), 28, 28)[:,end:-1:1]\n",
    "\n",
    "s1 = slider(-8.0:0.05:8.0, raw = true, camera = campixel!, start = -5.0)\n",
    "s2 = slider(-8.0:0.01:8.0, raw = true, camera = campixel!, start = 5.0)\n",
    "\n",
    "xy = lift((x, y)->[to_value(x) to_value(y)], s1[end][:value], s2[end][:value])\n",
    "digit   = lift((x, y) -> decodeimg(to_value(x), to_value(y)), s1[end][:value], s2[end][:value])\n",
    "scene_d = image(digit, show_axis = false)\n",
    "scene_s = scatter(latentspace_dnn[1,:], latentspace_dnn[2,:], color=[colors[y+1] for y in vY])\n",
    "scene_s = scatter!(scene_s, xy, color=:black, marker='+', markersize=1)\n",
    "display(vbox(hbox(scene_d, s1, s2, sizes=[0.8, 0.1, 0.1]), scene_s, sizes=[0.3, 0.7]))"
   ]
  },
  {
   "cell_type": "code",
   "execution_count": null,
   "metadata": {},
   "outputs": [],
   "source": []
  }
 ],
 "metadata": {
  "kernelspec": {
   "display_name": "Julia 1.0.5",
   "language": "julia",
   "name": "julia-1.0"
  },
  "language_info": {
   "file_extension": ".jl",
   "mimetype": "application/julia",
   "name": "julia",
   "version": "1.0.5"
  }
 },
 "nbformat": 4,
 "nbformat_minor": 4
}
